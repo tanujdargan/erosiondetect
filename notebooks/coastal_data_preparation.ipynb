{
  "cells": [
    {
      "cell_type": "raw",
      "metadata": {
        "vscode": {
          "languageId": "raw"
        }
      },
      "source": [
        "# Coastal Erosion Data Preparation\n",
        "\n",
        "This notebook prepares the Shifting Seas Ocean Climate and Marine Life Dataset for coastal erosion detection.\n",
        "\n",
        "Dataset: https://www.kaggle.com/datasets/atharvasoundankar/shifting-seas-ocean-climate-and-marine-life-dataset\n"
      ]
    },
    {
      "cell_type": "raw",
      "metadata": {
        "vscode": {
          "languageId": "raw"
        }
      },
      "source": [
        "!pip install seaborn"
      ]
    },
    {
      "cell_type": "raw",
      "metadata": {
        "vscode": {
          "languageId": "raw"
        }
      },
      "source": [
        "import pandas as pd\n",
        "import numpy as np\n",
        "import matplotlib.pyplot as plt\n",
        "import seaborn as sns\n",
        "from pathlib import Path\n",
        "import torch\n",
        "from torchvision import transforms\n",
        "from PIL import Image\n",
        "import os\n"
      ]
    },
    {
      "cell_type": "raw",
      "metadata": {
        "vscode": {
          "languageId": "raw"
        }
      },
      "source": [
        "## Download and Extract Dataset\n",
        "\n",
        "First, download the dataset from Kaggle. You'll need to:\n",
        "1. Install kaggle API: `pip install kaggle`\n",
        "2. Set up API credentials\n",
        "3. Download the dataset\n"
      ]
    },
    {
      "cell_type": "code",
      "execution_count": null,
      "metadata": {},
      "outputs": [],
      "source": [
        "# Download dataset (requires Kaggle API setup)\n",
        "# !kaggle datasets download -d atharvasoundankar/shifting-seas-ocean-climate-and-marine-life-dataset\n",
        "# !unzip shifting-seas-ocean-climate-and-marine-life-dataset.zip -d coastal_data/\n",
        "\n",
        "# For now, create placeholder directory structure\n",
        "data_dir = Path('coastal_data')\n",
        "data_dir.mkdir(exist_ok=True)\n",
        "print(f\"Data directory: {data_dir.absolute()}\")\n",
        "\n",
        "# Create synthetic coastal sensor data for testing\n",
        "class CoastalDataProcessor:\n",
        "    def __init__(self, data_dir):\n",
        "        self.data_dir = Path(data_dir)\n",
        "        self.sensor_data = None\n",
        "        \n",
        "    def create_synthetic_coastal_data(self, n_samples=1000):\n",
        "        \"\"\"Create synthetic coastal environmental data for testing\"\"\"\n",
        "        np.random.seed(42)\n",
        "        dates = pd.date_range('2020-01-01', periods=n_samples, freq='D')\n",
        "        \n",
        "        # Simulate seasonal patterns and erosion indicators\n",
        "        seasonal_trend = np.sin(2 * np.pi * np.arange(n_samples) / 365)\n",
        "        \n",
        "        self.sensor_data = pd.DataFrame({\n",
        "            'timestamp': dates,\n",
        "            'pH': 8.1 + 0.3 * seasonal_trend + np.random.normal(0, 0.1, n_samples),\n",
        "            'salinity': 35.0 + 2.0 * seasonal_trend + np.random.normal(0, 0.5, n_samples),\n",
        "            'dissolved_oxygen': 7.5 + 1.0 * seasonal_trend + np.random.normal(0, 0.3, n_samples),\n",
        "            'temperature': 15.0 + 8.0 * seasonal_trend + np.random.normal(0, 1.0, n_samples),\n",
        "            'wave_height': 1.5 + 0.8 * seasonal_trend + np.random.normal(0, 0.3, n_samples),\n",
        "            'tide_level': 2.0 * np.sin(4 * np.pi * np.arange(n_samples) / 365) + np.random.normal(0, 0.1, n_samples),\n",
        "            'erosion_risk': np.random.choice([0, 1, 2], n_samples, p=[0.6, 0.3, 0.1])  # 0=low, 1=medium, 2=high\n",
        "        })\n",
        "        \n",
        "        print(\"Created synthetic coastal sensor data\")\n",
        "        return self.sensor_data\n",
        "\n",
        "# Initialize processor and create data\n",
        "processor = CoastalDataProcessor('coastal_data')\n",
        "sensor_data = processor.create_synthetic_coastal_data()\n",
        "print(f\"Sensor data shape: {sensor_data.shape}\")\n",
        "print(f\"Columns: {list(sensor_data.columns)}\")\n"
      ]
    }
  ],
  "metadata": {
    "kernelspec": {
      "display_name": "Python 3",
      "language": "python",
      "name": "python3"
    },
    "language_info": {
      "codemirror_mode": {
        "name": "ipython",
        "version": 3
      },
      "file_extension": ".py",
      "mimetype": "text/x-python",
      "name": "python",
      "nbconvert_exporter": "python",
      "pygments_lexer": "ipython3",
      "version": "3.12.10"
    }
  },
  "nbformat": 4,
  "nbformat_minor": 2
}
