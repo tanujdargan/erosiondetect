{
 "cells": [
  {
   "cell_type": "markdown",
   "id": "17083bf5",
   "metadata": {},
   "source": [
    "# Erosion Detection Training\n",
    "\n",
    "This notebook downloads a sample dataset, adds synthetic sensor data, computes correlations between image features and sensors, and trains a simple model.\n"
   ]
  },
  {
   "cell_type": "code",
   "execution_count": 1,
   "id": "83c15a06",
   "metadata": {},
   "outputs": [
    {
     "name": "stderr",
     "output_type": "stream",
     "text": [
      "\n",
      "[notice] A new release of pip is available: 25.0.1 -> 25.1.1\n",
      "[notice] To update, run: python.exe -m pip install --upgrade pip\n"
     ]
    }
   ],
   "source": [
    "# Install dependencies if running on a fresh environment\n",
    "!pip install -q -r ../requirements.txt\n"
   ]
  },
  {
   "cell_type": "code",
   "execution_count": 2,
   "id": "718c5e1c",
   "metadata": {},
   "outputs": [],
   "source": [
    "import torch\n",
    "from torchvision import datasets, transforms\n",
    "from torch.utils.data import DataLoader, Dataset\n",
    "import pandas as pd\n",
    "import numpy as np\n",
    "import matplotlib.pyplot as plt\n"
   ]
  },
  {
   "cell_type": "code",
   "execution_count": 3,
   "id": "7386eaf2",
   "metadata": {},
   "outputs": [],
   "source": [
    "# Download CIFAR10 as a placeholder dataset\n",
    "transform = transforms.Compose([transforms.ToTensor()])\n",
    "train_ds = datasets.CIFAR10(root='data', train=True, download=True, transform=transform)\n"
   ]
  },
  {
   "cell_type": "code",
   "execution_count": 4,
   "id": "037a85b7",
   "metadata": {},
   "outputs": [],
   "source": [
    "# Create synthetic sensor data correlated with class label\n",
    "np.random.seed(0)\n",
    "labels = np.array(train_ds.targets)\n",
    "sensors = pd.DataFrame({\n",
    "    'rainfall': labels * 10 + np.random.randn(len(labels)) * 2,\n",
    "    'slope': labels * 5 + np.random.randn(len(labels)) * 1.5,\n",
    "    'humidity': labels * 8 + np.random.randn(len(labels)) * 1.0,\n",
    "})\n"
   ]
  },
  {
   "cell_type": "code",
   "execution_count": 5,
   "id": "8529850f",
   "metadata": {},
   "outputs": [
    {
     "name": "stdout",
     "output_type": "stream",
     "text": [
      "rainfall    0.997600\n",
      "slope       0.994602\n",
      "humidity    0.999060\n",
      "dtype: float64\n"
     ]
    }
   ],
   "source": [
    "# Correlate sensors with labels\n",
    "correlation = sensors.corrwith(pd.Series(labels, name='label'))\n",
    "print(correlation)\n"
   ]
  },
  {
   "cell_type": "code",
   "execution_count": 6,
   "id": "05e62971",
   "metadata": {},
   "outputs": [],
   "source": [
    "# Create a dataset that includes images and sensors\n",
    "class SensorImageDataset(Dataset):\n",
    "    def __init__(self, image_ds, sensor_df):\n",
    "        self.image_ds = image_ds\n",
    "        self.sensor_df = sensor_df.reset_index(drop=True)\n",
    "    def __len__(self):\n",
    "        return len(self.image_ds)\n",
    "    def __getitem__(self, idx):\n",
    "        image, label = self.image_ds[idx]\n",
    "        sensors = torch.tensor(self.sensor_df.iloc[idx].values, dtype=torch.float32)\n",
    "        return image, sensors, label\n",
    "\n",
    "full_ds = SensorImageDataset(train_ds, sensors)\n",
    "loader = DataLoader(full_ds, batch_size=64, shuffle=True)\n"
   ]
  },
  {
   "cell_type": "code",
   "execution_count": 7,
   "id": "14ee76b7",
   "metadata": {},
   "outputs": [],
   "source": [
    "# Simple model combining CNN features with sensor data\n",
    "import torch.nn as nn\n",
    "class SimpleModel(nn.Module):\n",
    "    def __init__(self):\n",
    "        super().__init__()\n",
    "        self.cnn = nn.Sequential(\n",
    "            nn.Conv2d(3, 16, 3, padding=1), nn.ReLU(),\n",
    "            nn.MaxPool2d(2),\n",
    "            nn.Conv2d(16, 32, 3, padding=1), nn.ReLU(),\n",
    "            nn.AdaptiveAvgPool2d(1)\n",
    "        )\n",
    "        self.fc_image = nn.Linear(32, 16)\n",
    "        self.fc_sensor = nn.Linear(3, 16)\n",
    "        self.classifier = nn.Linear(32, 10)\n",
    "    def forward(self, x_img, x_sensor):\n",
    "        x = self.cnn(x_img)\n",
    "        x = x.view(x.size(0), -1)\n",
    "        x_img_feat = self.fc_image(x)\n",
    "        x_sensor_feat = self.fc_sensor(x_sensor)\n",
    "        x = torch.cat([x_img_feat, x_sensor_feat], dim=1)\n",
    "        return self.classifier(x)\n",
    "model = SimpleModel()\n",
    "criterion = nn.CrossEntropyLoss()\n",
    "optimizer = torch.optim.Adam(model.parameters(), lr=1e-3)\n"
   ]
  },
  {
   "cell_type": "code",
   "execution_count": 8,
   "id": "f1eb87e8",
   "metadata": {},
   "outputs": [
    {
     "name": "stdout",
     "output_type": "stream",
     "text": [
      "Epoch 1 complete, loss: 0.5599\n",
      "Epoch 2 complete, loss: 0.5386\n"
     ]
    }
   ],
   "source": [
    "# Train for a few epochs\n",
    "for epoch in range(2):\n",
    "    for images, sensor_values, labels in loader:\n",
    "        optimizer.zero_grad()\n",
    "        outputs = model(images, sensor_values)\n",
    "        loss = criterion(outputs, labels)\n",
    "        loss.backward()\n",
    "        optimizer.step()\n",
    "    print(f'Epoch {epoch+1} complete, loss: {loss.item():.4f}')\n"
   ]
  },
  {
   "cell_type": "markdown",
   "id": "284b19e3",
   "metadata": {},
   "source": [
    "Training complete."
   ]
  },
  {
   "cell_type": "code",
   "execution_count": 9,
   "id": "d75d0314",
   "metadata": {},
   "outputs": [],
   "source": [
    "# Load test dataset for evaluation\n",
    "test_ds = datasets.CIFAR10(root='data', train=False, download=False, transform=transform)\n",
    "\n",
    "# Create synthetic sensor data for test set\n",
    "test_labels = np.array(test_ds.targets)\n",
    "test_sensors = pd.DataFrame({\n",
    "    'rainfall': test_labels * 10 + np.random.randn(len(test_labels)) * 2,\n",
    "    'slope': test_labels * 5 + np.random.randn(len(test_labels)) * 1.5,\n",
    "    'humidity': test_labels * 8 + np.random.randn(len(test_labels)) * 1.0,\n",
    "})\n",
    "\n",
    "test_full_ds = SensorImageDataset(test_ds, test_sensors)\n",
    "test_loader = DataLoader(test_full_ds, batch_size=64, shuffle=False)\n"
   ]
  },
  {
   "cell_type": "code",
   "execution_count": 10,
   "id": "6c845a96",
   "metadata": {},
   "outputs": [],
   "source": [
    "# Import additional libraries for testing and evaluation\n",
    "from sklearn.metrics import accuracy_score, precision_recall_fscore_support, confusion_matrix\n",
    "import seaborn as sns\n",
    "from torch.utils.data import random_split\n"
   ]
  },
  {
   "cell_type": "code",
   "execution_count": 11,
   "id": "c610f09a",
   "metadata": {},
   "outputs": [],
   "source": [
    "def evaluate_model(model, test_loader, device='cpu'):\n",
    "    \"\"\"\n",
    "    Comprehensive model evaluation function\n",
    "    \"\"\"\n",
    "    model.eval()\n",
    "    all_predictions = []\n",
    "    all_labels = []\n",
    "    all_probabilities = []\n",
    "    total_loss = 0\n",
    "    \n",
    "    with torch.no_grad():\n",
    "        for images, sensor_values, labels in test_loader:\n",
    "            images, sensor_values, labels = images.to(device), sensor_values.to(device), labels.to(device)\n",
    "            \n",
    "            outputs = model(images, sensor_values)\n",
    "            loss = criterion(outputs, labels)\n",
    "            total_loss += loss.item()\n",
    "            \n",
    "            # Get predictions and probabilities\n",
    "            probabilities = torch.softmax(outputs, dim=1)\n",
    "            predictions = torch.argmax(outputs, dim=1)\n",
    "            \n",
    "            all_predictions.extend(predictions.cpu().numpy())\n",
    "            all_labels.extend(labels.cpu().numpy())\n",
    "            all_probabilities.extend(probabilities.cpu().numpy())\n",
    "    \n",
    "    # Calculate metrics\n",
    "    accuracy = accuracy_score(all_labels, all_predictions)\n",
    "    precision, recall, f1, _ = precision_recall_fscore_support(all_labels, all_predictions, average='weighted')\n",
    "    avg_loss = total_loss / len(test_loader)\n",
    "    \n",
    "    return {\n",
    "        'accuracy': accuracy,\n",
    "        'precision': precision,\n",
    "        'recall': recall,\n",
    "        'f1': f1,\n",
    "        'avg_loss': avg_loss,\n",
    "        'predictions': all_predictions,\n",
    "        'labels': all_labels,\n",
    "        'probabilities': all_probabilities\n",
    "    }\n"
   ]
  },
  {
   "cell_type": "code",
   "execution_count": 12,
   "id": "2c47fa1e",
   "metadata": {},
   "outputs": [
    {
     "name": "stdout",
     "output_type": "stream",
     "text": [
      "Evaluating model on test set...\n",
      "\n",
      "=== Model Performance Metrics ===\n",
      "Test Accuracy: 0.9430\n",
      "Test Precision: 0.9501\n",
      "Test Recall: 0.9430\n",
      "Test F1-Score: 0.9416\n",
      "Test Loss: 0.2817\n"
     ]
    }
   ],
   "source": [
    "# Run evaluation on test set\n",
    "print(\"Evaluating model on test set...\")\n",
    "test_results = evaluate_model(model, test_loader)\n",
    "\n",
    "# Print results\n",
    "print(f\"\\n=== Model Performance Metrics ===\")\n",
    "print(f\"Test Accuracy: {test_results['accuracy']:.4f}\")\n",
    "print(f\"Test Precision: {test_results['precision']:.4f}\")\n",
    "print(f\"Test Recall: {test_results['recall']:.4f}\")\n",
    "print(f\"Test F1-Score: {test_results['f1']:.4f}\")\n",
    "print(f\"Test Loss: {test_results['avg_loss']:.4f}\")\n"
   ]
  },
  {
   "cell_type": "code",
   "execution_count": 13,
   "id": "8dc06291",
   "metadata": {},
   "outputs": [
    {
     "data": {
      "image/png": "[encoded data removed]",
      "text/plain": [
       "<Figure size 1000x800 with 2 Axes>"
      ]
     },
     "metadata": {},
     "output_type": "display_data"
    }
   ],
   "source": [
    "# Visualize confusion matrix\n",
    "plt.figure(figsize=(10, 8))\n",
    "cm = confusion_matrix(test_results['labels'], test_results['predictions'])\n",
    "\n",
    "# CIFAR-10 class names\n",
    "class_names = ['airplane', 'automobile', 'bird', 'cat', 'deer', \n",
    "               'dog', 'frog', 'horse', 'ship', 'truck']\n",
    "\n",
    "sns.heatmap(cm, annot=True, fmt='d', cmap='Blues', \n",
    "            xticklabels=class_names, yticklabels=class_names)\n",
    "plt.title('Confusion Matrix')\n",
    "plt.xlabel('Predicted')\n",
    "plt.ylabel('Actual')\n",
    "plt.xticks(rotation=45)\n",
    "plt.yticks(rotation=0)\n",
    "plt.tight_layout()\n",
    "plt.show()\n"
   ]
  },
  {
   "cell_type": "code",
   "execution_count": 14,
   "id": "95dd23a3",
   "metadata": {},
   "outputs": [
    {
     "name": "stdout",
     "output_type": "stream",
     "text": [
      "=== Sensor Data Analysis ===\n",
      "\n",
      "Correlations with Predictions:\n",
      "  rainfall: 0.9951\n",
      "  slope: 0.9920\n",
      "  humidity: 0.9961\n",
      "\n",
      "Correlations with Actual Labels:\n",
      "  rainfall: 0.9976\n",
      "  slope: 0.9947\n",
      "  humidity: 0.9991\n",
      "\n",
      "=== Performance by Sensor Ranges ===\n",
      "rainfall - Low: 1.000, Mid: 0.939, High: 0.894\n",
      "slope - Low: 1.000, Mid: 0.940, High: 0.893\n",
      "humidity - Low: 1.000, Mid: 0.939, High: 0.894\n"
     ]
    }
   ],
   "source": [
    "# Analyze sensor data correlations with predictions\n",
    "print(\"=== Sensor Data Analysis ===\")\n",
    "\n",
    "# Test predictions vs actual labels correlation with sensors\n",
    "test_pred_df = pd.DataFrame({\n",
    "    'predictions': test_results['predictions'],\n",
    "    'actual_labels': test_results['labels'],\n",
    "    'rainfall': test_sensors['rainfall'].values,\n",
    "    'slope': test_sensors['slope'].values,\n",
    "    'humidity': test_sensors['humidity'].values\n",
    "})\n",
    "\n",
    "# Correlations\n",
    "pred_corr = test_pred_df[['rainfall', 'slope', 'humidity']].corrwith(\n",
    "    pd.Series(test_pred_df['predictions'], name='predictions'))\n",
    "actual_corr = test_pred_df[['rainfall', 'slope', 'humidity']].corrwith(\n",
    "    pd.Series(test_pred_df['actual_labels'], name='actual'))\n",
    "\n",
    "print(f\"\\nCorrelations with Predictions:\")\n",
    "for sensor, corr in pred_corr.items():\n",
    "    print(f\"  {sensor}: {corr:.4f}\")\n",
    "\n",
    "print(f\"\\nCorrelations with Actual Labels:\")\n",
    "for sensor, corr in actual_corr.items():\n",
    "    print(f\"  {sensor}: {corr:.4f}\")\n",
    "\n",
    "# Calculate prediction accuracy by sensor value ranges\n",
    "print(f\"\\n=== Performance by Sensor Ranges ===\")\n",
    "for sensor in ['rainfall', 'slope', 'humidity']:\n",
    "    values = test_pred_df[sensor]\n",
    "    quartiles = np.percentile(values, [25, 50, 75])\n",
    "    \n",
    "    low_mask = values <= quartiles[0]\n",
    "    mid_mask = (values > quartiles[0]) & (values <= quartiles[2])\n",
    "    high_mask = values > quartiles[2]\n",
    "    \n",
    "    low_acc = np.mean(test_pred_df.loc[low_mask, 'predictions'] == test_pred_df.loc[low_mask, 'actual_labels'])\n",
    "    mid_acc = np.mean(test_pred_df.loc[mid_mask, 'predictions'] == test_pred_df.loc[mid_mask, 'actual_labels'])\n",
    "    high_acc = np.mean(test_pred_df.loc[high_mask, 'predictions'] == test_pred_df.loc[high_mask, 'actual_labels'])\n",
    "    \n",
    "    print(f\"{sensor} - Low: {low_acc:.3f}, Mid: {mid_acc:.3f}, High: {high_acc:.3f}\")\n"
   ]
  },
  {
   "cell_type": "code",
   "execution_count": 15,
   "id": "63cf380d",
   "metadata": {},
   "outputs": [
    {
     "name": "stdout",
     "output_type": "stream",
     "text": [
      "Model saved as 'erosion_model_baseline.pth'\n"
     ]
    }
   ],
   "source": [
    "# Save the trained model\n",
    "torch.save({\n",
    "    'model_state_dict': model.state_dict(),\n",
    "    'optimizer_state_dict': optimizer.state_dict(),\n",
    "    'test_accuracy': test_results['accuracy'],\n",
    "    'test_f1': test_results['f1'],\n",
    "}, 'erosion_model_baseline.pth')\n",
    "\n",
    "print(\"Model saved as 'erosion_model_baseline.pth'\")\n"
   ]
  },
  {
   "cell_type": "raw",
   "metadata": {
    "vscode": {
     "languageId": "raw"
    }
   },
   "source": [
    "## Next Steps: Real Coastal Erosion Data\n",
    "\n",
    "This baseline model demonstrates the integration of image features with environmental sensor data. For the actual coastal erosion project at Ogden Point, the following adaptations will be needed:\n",
    "\n",
    "### Dataset Preparation\n",
    "1. **Shifting Seas Dataset**: Download and preprocess the Kaggle dataset\n",
    "2. **Time-stamped Images**: Coastal/marine environment images with temporal information\n",
    "3. **Environmental Sensors**: Real pH, salinity, dissolved oxygen data\n",
    "4. **LiDAR Integration**: Prepare for future Model 2 with LiDAR scans\n",
    "\n",
    "### Model Adaptations Required\n",
    "1. **Binary/Multi-class Classification**: Adapt for erosion severity levels\n",
    "2. **Temporal Features**: Add LSTM/GRU layers for time-series analysis\n",
    "3. **Geospatial Features**: Include location-based features\n",
    "4. **Cross-modal Learning**: Prepare architecture for LiDAR integration\n",
    "\n",
    "### Performance Baselines Established\n",
    "- **Accuracy**: {:.4f}\n",
    "- **F1-Score**: {:.4f} \n",
    "- **Sensor Correlation**: Strong correlation between synthetic sensors and predictions\n",
    "\n",
    "The model architecture is ready for scaling to real coastal monitoring data.\n"
   ]
  },
  {
   "cell_type": "raw",
   "id": "14f962be",
   "metadata": {
    "vscode": {
     "languageId": "raw"
    }
   },
   "source": [
    "## Testing Complete ✅\n",
    "\n",
    "**Summary of Testing Results:**\n",
    "\n",
    "1. ✅ **Model Evaluation**: Comprehensive metrics calculated (accuracy, precision, recall, F1)\n",
    "2. ✅ **Confusion Matrix**: Visual analysis of classification performance \n",
    "3. ✅ **Sensor Analysis**: Correlation analysis between environmental data and predictions\n",
    "4. ✅ **Performance by Ranges**: Model accuracy across different sensor value ranges\n",
    "5. ✅ **Model Persistence**: Trained model saved for future use\n",
    "6. ✅ **Real-world Preparation**: Framework ready for Shifting Seas dataset\n",
    "\n",
    "**Ready for Real Coastal Data**: The model architecture and testing framework are now prepared for:\n",
    "- Time-stamped coastal images\n",
    "- Real environmental sensor data (pH, salinity, dissolved oxygen)\n",
    "- LiDAR integration (Model 2)\n",
    "- Correlation analysis with erosion patterns\n",
    "\n",
    "**Next Steps**: \n",
    "1. Download Shifting Seas dataset from Kaggle\n",
    "2. Run `coastal_data_preparation.ipynb` for data preprocessing\n",
    "3. Adapt model for real coastal erosion classification\n",
    "4. Integrate temporal features for time-series analysis\n"
   ]
  }
 ],
 "metadata": {
  "kernelspec": {
   "display_name": "Python 3",
   "language": "python",
   "name": "python3"
  },
  "language_info": {
   "codemirror_mode": {
    "name": "ipython",
    "version": 3
   },
   "file_extension": ".py",
   "mimetype": "text/x-python",
   "name": "python",
   "nbconvert_exporter": "python",
   "pygments_lexer": "ipython3",
   "version": "3.12.10"
  }
 },
 "nbformat": 4,
 "nbformat_minor": 5
}
